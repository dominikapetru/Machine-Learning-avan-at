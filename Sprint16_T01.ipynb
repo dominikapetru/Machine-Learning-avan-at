{
 "cells": [
  {
   "cell_type": "markdown",
   "id": "0a60700f-730c-408b-9e90-69f52a4cc009",
   "metadata": {},
   "source": [
    "# Sprint 16: Advanced machine learning"
   ]
  },
  {
   "cell_type": "markdown",
   "id": "a2c249f1-929d-4d20-b4a2-1b6c43a16fa6",
   "metadata": {},
   "source": [
    "#### Imports"
   ]
  },
  {
   "cell_type": "code",
   "execution_count": 1,
   "id": "b4cbd262-5537-4917-8b74-cd0a2fb10d12",
   "metadata": {},
   "outputs": [],
   "source": [
    "import numpy as np\n",
    "import pandas as pd\n",
    "import matplotlib.pyplot as plt\n",
    "import seaborn as sns\n",
    "from sklearn.model_selection import train_test_split\n",
    "import warnings\n",
    "warnings.filterwarnings('ignore')\n",
    "from statistics import mean\n",
    "\n",
    "from sklearn.preprocessing import StandardScaler\n",
    "from sklearn.ensemble import RandomForestRegressor\n",
    "from sklearn.pipeline import Pipeline\n",
    "from sklearn.model_selection import GridSearchCV"
   ]
  },
  {
   "cell_type": "markdown",
   "id": "64a0354b-91a3-4097-a904-d72c6662261d",
   "metadata": {},
   "source": [
    "I will analyze dataset about Natural Gas consumption and in Catalonia during years 2013 to 2020.\n",
    " - dataset: https://analisi.transparenciacatalunya.cat/Energia/Consum-de-gas-natural-canalitzat-per-municipis-i-s/qvqg-zag8\n",
    " - price of natural gas of domestic use: https://es.statista.com/estadisticas/504539/precios-semestrales-al-consumidor-de-gas-natural-en-espana/\n",
    " - PIB https://www.idescat.cat/pub/?id=aec&n=354&lang=es\n",
    " - Total consumption of energies https://www.idescat.cat/pub/?id=aec&n=501&lang=es"
   ]
  },
  {
   "cell_type": "code",
   "execution_count": 2,
   "id": "ca3a7b56-500e-4112-a8aa-c6b7858f439b",
   "metadata": {},
   "outputs": [
    {
     "data": {
      "text/html": [
       "<div>\n",
       "<style scoped>\n",
       "    .dataframe tbody tr th:only-of-type {\n",
       "        vertical-align: middle;\n",
       "    }\n",
       "\n",
       "    .dataframe tbody tr th {\n",
       "        vertical-align: top;\n",
       "    }\n",
       "\n",
       "    .dataframe thead th {\n",
       "        text-align: right;\n",
       "    }\n",
       "</style>\n",
       "<table border=\"1\" class=\"dataframe\">\n",
       "  <thead>\n",
       "    <tr style=\"text-align: right;\">\n",
       "      <th></th>\n",
       "      <th>ANY</th>\n",
       "      <th>PROVINCIA</th>\n",
       "      <th>COMARCA</th>\n",
       "      <th>CDMUN</th>\n",
       "      <th>MUNICIPI</th>\n",
       "      <th>SECTOR</th>\n",
       "      <th>Consum [kWh PCS]</th>\n",
       "      <th>Observacions</th>\n",
       "    </tr>\n",
       "  </thead>\n",
       "  <tbody>\n",
       "    <tr>\n",
       "      <th>0</th>\n",
       "      <td>2013</td>\n",
       "      <td>GIRONA</td>\n",
       "      <td>GIRONES</td>\n",
       "      <td>17002</td>\n",
       "      <td>AIGUAVIVA</td>\n",
       "      <td>INDUSTRIAL</td>\n",
       "      <td>19570323.0</td>\n",
       "      <td>NaN</td>\n",
       "    </tr>\n",
       "    <tr>\n",
       "      <th>1</th>\n",
       "      <td>2013</td>\n",
       "      <td>GIRONA</td>\n",
       "      <td>GIRONES</td>\n",
       "      <td>17002</td>\n",
       "      <td>AIGUAVIVA</td>\n",
       "      <td>TERCIARI</td>\n",
       "      <td>NaN</td>\n",
       "      <td>Dada subjecta a secret estadístic.</td>\n",
       "    </tr>\n",
       "    <tr>\n",
       "      <th>2</th>\n",
       "      <td>2013</td>\n",
       "      <td>GIRONA</td>\n",
       "      <td>GIRONES</td>\n",
       "      <td>17002</td>\n",
       "      <td>AIGUAVIVA</td>\n",
       "      <td>USOS DOMESTICS</td>\n",
       "      <td>1231527.0</td>\n",
       "      <td>NaN</td>\n",
       "    </tr>\n",
       "  </tbody>\n",
       "</table>\n",
       "</div>"
      ],
      "text/plain": [
       "    ANY PROVINCIA  COMARCA  CDMUN   MUNICIPI          SECTOR  \\\n",
       "0  2013    GIRONA  GIRONES  17002  AIGUAVIVA      INDUSTRIAL   \n",
       "1  2013    GIRONA  GIRONES  17002  AIGUAVIVA        TERCIARI   \n",
       "2  2013    GIRONA  GIRONES  17002  AIGUAVIVA  USOS DOMESTICS   \n",
       "\n",
       "   Consum [kWh PCS]                        Observacions  \n",
       "0        19570323.0                                 NaN  \n",
       "1               NaN  Dada subjecta a secret estadístic.  \n",
       "2         1231527.0                                 NaN  "
      ]
     },
     "execution_count": 2,
     "metadata": {},
     "output_type": "execute_result"
    }
   ],
   "source": [
    "df = pd.read_csv(\"gas_natural.csv\")\n",
    "df.head(3)"
   ]
  },
  {
   "cell_type": "code",
   "execution_count": 3,
   "id": "84b7969c-eaeb-4f58-81c1-b7105305d60b",
   "metadata": {},
   "outputs": [
    {
     "data": {
      "text/html": [
       "<div>\n",
       "<style scoped>\n",
       "    .dataframe tbody tr th:only-of-type {\n",
       "        vertical-align: middle;\n",
       "    }\n",
       "\n",
       "    .dataframe tbody tr th {\n",
       "        vertical-align: top;\n",
       "    }\n",
       "\n",
       "    .dataframe thead th {\n",
       "        text-align: right;\n",
       "    }\n",
       "</style>\n",
       "<table border=\"1\" class=\"dataframe\">\n",
       "  <thead>\n",
       "    <tr style=\"text-align: right;\">\n",
       "      <th></th>\n",
       "      <th>ANY</th>\n",
       "      <th>CDMUN</th>\n",
       "      <th>Consum [kWh PCS]</th>\n",
       "    </tr>\n",
       "  </thead>\n",
       "  <tbody>\n",
       "    <tr>\n",
       "      <th>count</th>\n",
       "      <td>7622.000000</td>\n",
       "      <td>7622.000000</td>\n",
       "      <td>6.006000e+03</td>\n",
       "    </tr>\n",
       "    <tr>\n",
       "      <th>mean</th>\n",
       "      <td>2016.580294</td>\n",
       "      <td>17104.379166</td>\n",
       "      <td>5.212483e+07</td>\n",
       "    </tr>\n",
       "    <tr>\n",
       "      <th>std</th>\n",
       "      <td>2.280212</td>\n",
       "      <td>12184.310737</td>\n",
       "      <td>3.246794e+08</td>\n",
       "    </tr>\n",
       "    <tr>\n",
       "      <th>min</th>\n",
       "      <td>2013.000000</td>\n",
       "      <td>8001.000000</td>\n",
       "      <td>6.900000e+01</td>\n",
       "    </tr>\n",
       "    <tr>\n",
       "      <th>25%</th>\n",
       "      <td>2015.000000</td>\n",
       "      <td>8147.000000</td>\n",
       "      <td>2.069246e+06</td>\n",
       "    </tr>\n",
       "    <tr>\n",
       "      <th>50%</th>\n",
       "      <td>2017.000000</td>\n",
       "      <td>8292.000000</td>\n",
       "      <td>7.128224e+06</td>\n",
       "    </tr>\n",
       "    <tr>\n",
       "      <th>75%</th>\n",
       "      <td>2019.000000</td>\n",
       "      <td>25022.500000</td>\n",
       "      <td>2.453861e+07</td>\n",
       "    </tr>\n",
       "    <tr>\n",
       "      <th>max</th>\n",
       "      <td>2020.000000</td>\n",
       "      <td>43907.000000</td>\n",
       "      <td>8.641686e+09</td>\n",
       "    </tr>\n",
       "  </tbody>\n",
       "</table>\n",
       "</div>"
      ],
      "text/plain": [
       "               ANY         CDMUN  Consum [kWh PCS]\n",
       "count  7622.000000   7622.000000      6.006000e+03\n",
       "mean   2016.580294  17104.379166      5.212483e+07\n",
       "std       2.280212  12184.310737      3.246794e+08\n",
       "min    2013.000000   8001.000000      6.900000e+01\n",
       "25%    2015.000000   8147.000000      2.069246e+06\n",
       "50%    2017.000000   8292.000000      7.128224e+06\n",
       "75%    2019.000000  25022.500000      2.453861e+07\n",
       "max    2020.000000  43907.000000      8.641686e+09"
      ]
     },
     "execution_count": 3,
     "metadata": {},
     "output_type": "execute_result"
    }
   ],
   "source": [
    "df.describe()"
   ]
  },
  {
   "cell_type": "markdown",
   "id": "61d76a92-4052-4bec-b40b-11efdea2e311",
   "metadata": {},
   "source": [
    "I will use only some of the values to create machine learning model.\n",
    "- Year\n",
    "- Minicipal code\n",
    "- Sector - domestic\n",
    "- Total waste generation in kg\n",
    "- Consumption in kWh"
   ]
  },
  {
   "cell_type": "code",
   "execution_count": 4,
   "id": "1f074f6e-5ce4-40c0-a615-87885c221cff",
   "metadata": {},
   "outputs": [
    {
     "data": {
      "text/plain": [
       "Index(['ANY', 'PROVINCIA', 'COMARCA', 'CDMUN', 'MUNICIPI', 'SECTOR',\n",
       "       'Consum [kWh PCS]', 'Observacions'],\n",
       "      dtype='object')"
      ]
     },
     "execution_count": 4,
     "metadata": {},
     "output_type": "execute_result"
    }
   ],
   "source": [
    "df.columns"
   ]
  },
  {
   "cell_type": "code",
   "execution_count": 5,
   "id": "7e937656-a30b-4bf6-a842-cac196b50265",
   "metadata": {},
   "outputs": [],
   "source": [
    "df_gas = df[['ANY','CDMUN','SECTOR','Consum [kWh PCS]']]    "
   ]
  },
  {
   "cell_type": "code",
   "execution_count": 6,
   "id": "3f37f1c8-76af-40f9-b1a2-82d52879e66a",
   "metadata": {},
   "outputs": [
    {
     "data": {
      "text/html": [
       "<div>\n",
       "<style scoped>\n",
       "    .dataframe tbody tr th:only-of-type {\n",
       "        vertical-align: middle;\n",
       "    }\n",
       "\n",
       "    .dataframe tbody tr th {\n",
       "        vertical-align: top;\n",
       "    }\n",
       "\n",
       "    .dataframe thead th {\n",
       "        text-align: right;\n",
       "    }\n",
       "</style>\n",
       "<table border=\"1\" class=\"dataframe\">\n",
       "  <thead>\n",
       "    <tr style=\"text-align: right;\">\n",
       "      <th></th>\n",
       "      <th>Year</th>\n",
       "      <th>Municipal_Code</th>\n",
       "      <th>Sector</th>\n",
       "      <th>Consumption</th>\n",
       "    </tr>\n",
       "  </thead>\n",
       "  <tbody>\n",
       "    <tr>\n",
       "      <th>0</th>\n",
       "      <td>2013</td>\n",
       "      <td>17002</td>\n",
       "      <td>INDUSTRIAL</td>\n",
       "      <td>19570323.0</td>\n",
       "    </tr>\n",
       "    <tr>\n",
       "      <th>1</th>\n",
       "      <td>2013</td>\n",
       "      <td>17002</td>\n",
       "      <td>TERCIARI</td>\n",
       "      <td>NaN</td>\n",
       "    </tr>\n",
       "  </tbody>\n",
       "</table>\n",
       "</div>"
      ],
      "text/plain": [
       "   Year  Municipal_Code      Sector  Consumption\n",
       "0  2013           17002  INDUSTRIAL   19570323.0\n",
       "1  2013           17002    TERCIARI          NaN"
      ]
     },
     "execution_count": 6,
     "metadata": {},
     "output_type": "execute_result"
    }
   ],
   "source": [
    "df_gas = df_gas.rename({'ANY': 'Year', 'CDMUN': 'Municipal_Code',\n",
    "                        'SECTOR': 'Sector', 'Consum [kWh PCS]': 'Consumption'}, axis='columns')\n",
    "df_gas.head(2)"
   ]
  },
  {
   "cell_type": "code",
   "execution_count": 7,
   "id": "fe6ac3d0-1bb8-4754-ac95-f5191e17b4f2",
   "metadata": {},
   "outputs": [
    {
     "data": {
      "text/html": [
       "<div>\n",
       "<style scoped>\n",
       "    .dataframe tbody tr th:only-of-type {\n",
       "        vertical-align: middle;\n",
       "    }\n",
       "\n",
       "    .dataframe tbody tr th {\n",
       "        vertical-align: top;\n",
       "    }\n",
       "\n",
       "    .dataframe thead th {\n",
       "        text-align: right;\n",
       "    }\n",
       "</style>\n",
       "<table border=\"1\" class=\"dataframe\">\n",
       "  <thead>\n",
       "    <tr style=\"text-align: right;\">\n",
       "      <th></th>\n",
       "      <th>Year</th>\n",
       "      <th>Municipal_Code</th>\n",
       "      <th>Sector</th>\n",
       "      <th>Consumption</th>\n",
       "    </tr>\n",
       "  </thead>\n",
       "  <tbody>\n",
       "    <tr>\n",
       "      <th>2</th>\n",
       "      <td>2013</td>\n",
       "      <td>17002</td>\n",
       "      <td>USOS DOMESTICS</td>\n",
       "      <td>1231527.0</td>\n",
       "    </tr>\n",
       "    <tr>\n",
       "      <th>5</th>\n",
       "      <td>2014</td>\n",
       "      <td>17002</td>\n",
       "      <td>USOS DOMESTICS</td>\n",
       "      <td>1031488.0</td>\n",
       "    </tr>\n",
       "  </tbody>\n",
       "</table>\n",
       "</div>"
      ],
      "text/plain": [
       "   Year  Municipal_Code          Sector  Consumption\n",
       "2  2013           17002  USOS DOMESTICS    1231527.0\n",
       "5  2014           17002  USOS DOMESTICS    1031488.0"
      ]
     },
     "execution_count": 7,
     "metadata": {},
     "output_type": "execute_result"
    }
   ],
   "source": [
    "df_dom = df_gas.loc[df_gas['Sector'] == 'USOS DOMESTICS']\n",
    "df_dom.head(2)"
   ]
  },
  {
   "cell_type": "code",
   "execution_count": 8,
   "id": "b9ac84ad-c1cc-4e52-a38c-2d5997dadd5a",
   "metadata": {},
   "outputs": [],
   "source": [
    "#price of natural gas by year for domestic use\n",
    "conditions1 = [\n",
    "    (df_dom['Year'] == 2013),\n",
    "    (df_dom['Year'] == 2014),\n",
    "    (df_dom['Year'] == 2015),\n",
    "    (df_dom['Year'] == 2016),\n",
    "    (df_dom['Year'] == 2017),\n",
    "    (df_dom['Year'] == 2018),\n",
    "    (df_dom['Year'] == 2019),\n",
    "    (df_dom['Year'] == 2020)]\n",
    "\n",
    "values = [0.065, 0.070, 0.070, 0.060, 0.060, 0.060, 0.065, 0.060]\n",
    "\n",
    "df_dom['Price'] = np.select(conditions1, values)"
   ]
  },
  {
   "cell_type": "code",
   "execution_count": 9,
   "id": "0f1c9547-0529-49e4-b845-4b6e29edda09",
   "metadata": {},
   "outputs": [],
   "source": [
    "#inflation in Catalonia by year, \n",
    "conditions2 = [\n",
    "    (df_dom['Year'] == 2013),\n",
    "    (df_dom['Year'] == 2014),\n",
    "    (df_dom['Year'] == 2015),\n",
    "    (df_dom['Year'] == 2016),\n",
    "    (df_dom['Year'] == 2017),\n",
    "    (df_dom['Year'] == 2018),\n",
    "    (df_dom['Year'] == 2019),\n",
    "    (df_dom['Year'] == 2020)]\n",
    "\n",
    "values = [1.7, 0.1, -0.2, 0.1, 2.2, 1.8, 0.9, -0.4]\n",
    "\n",
    "df_dom['Inflation'] = np.select(conditions2, values)"
   ]
  },
  {
   "cell_type": "code",
   "execution_count": 10,
   "id": "b897a4e7-577b-4224-9f29-c79816509311",
   "metadata": {},
   "outputs": [
    {
     "data": {
      "text/plain": [
       "24422.0"
      ]
     },
     "execution_count": 10,
     "metadata": {},
     "output_type": "execute_result"
    }
   ],
   "source": [
    "#total energy consumption in Catalonia by year - finding value for 2020\n",
    "def Average(values):\n",
    "    return mean(values)\n",
    "\n",
    "values = [23204, 23254, 24403, 24556, 25298, 24867, 25371]\n",
    "average = Average(values)\n",
    "round(average, 0)"
   ]
  },
  {
   "cell_type": "code",
   "execution_count": 11,
   "id": "59aa767a-ec47-44b8-a615-709bfe431909",
   "metadata": {},
   "outputs": [],
   "source": [
    "#total energy consumption in Catalonia by year, Thousands of toe\n",
    "conditions3 = [\n",
    "    (df_dom['Year'] == 2013),\n",
    "    (df_dom['Year'] == 2014),\n",
    "    (df_dom['Year'] == 2015),\n",
    "    (df_dom['Year'] == 2016),\n",
    "    (df_dom['Year'] == 2017),\n",
    "    (df_dom['Year'] == 2018),\n",
    "    (df_dom['Year'] == 2019),\n",
    "    (df_dom['Year'] == 2020)]\n",
    "\n",
    "values = [23204, 23254, 24403, 24556, 25298, 24867, 25371, 24422]\n",
    "\n",
    "df_dom['Total_energy_consum'] = np.select(conditions3, values)"
   ]
  },
  {
   "cell_type": "code",
   "execution_count": 12,
   "id": "5bc6056f-ec87-4453-a66b-e626e6e57bbb",
   "metadata": {},
   "outputs": [],
   "source": [
    "#total PIB in Catalonia, Millons of euros\n",
    "conditions3 = [\n",
    "    (df_dom['Year'] == 2013),\n",
    "    (df_dom['Year'] == 2014),\n",
    "    (df_dom['Year'] == 2015),\n",
    "    (df_dom['Year'] == 2016),\n",
    "    (df_dom['Year'] == 2017),\n",
    "    (df_dom['Year'] == 2018),\n",
    "    (df_dom['Year'] == 2019),\n",
    "    (df_dom['Year'] == 2020)]\n",
    "\n",
    "values = [201531, 204896, 213746, 222514, 232187, 241670, 249900, 224125]\n",
    "\n",
    "df_dom['Total_energy_consum'] = np.select(conditions3, values)"
   ]
  },
  {
   "cell_type": "code",
   "execution_count": 13,
   "id": "32f4c2e3-3fa8-47df-a020-5c9972a57deb",
   "metadata": {},
   "outputs": [
    {
     "name": "stdout",
     "output_type": "stream",
     "text": [
      "<class 'pandas.core.frame.DataFrame'>\n",
      "Int64Index: 2934 entries, 2 to 7621\n",
      "Data columns (total 7 columns):\n",
      " #   Column               Non-Null Count  Dtype  \n",
      "---  ------               --------------  -----  \n",
      " 0   Year                 2934 non-null   int64  \n",
      " 1   Municipal_Code       2934 non-null   int64  \n",
      " 2   Sector               2934 non-null   object \n",
      " 3   Consumption          2929 non-null   float64\n",
      " 4   Price                2934 non-null   float64\n",
      " 5   Inflation            2934 non-null   float64\n",
      " 6   Total_energy_consum  2934 non-null   int64  \n",
      "dtypes: float64(3), int64(3), object(1)\n",
      "memory usage: 183.4+ KB\n"
     ]
    }
   ],
   "source": [
    "df_dom.info()"
   ]
  },
  {
   "cell_type": "code",
   "execution_count": 14,
   "id": "c78769af-174e-47d0-bacd-a89be3e42b54",
   "metadata": {},
   "outputs": [
    {
     "data": {
      "text/html": [
       "<div>\n",
       "<style scoped>\n",
       "    .dataframe tbody tr th:only-of-type {\n",
       "        vertical-align: middle;\n",
       "    }\n",
       "\n",
       "    .dataframe tbody tr th {\n",
       "        vertical-align: top;\n",
       "    }\n",
       "\n",
       "    .dataframe thead th {\n",
       "        text-align: right;\n",
       "    }\n",
       "</style>\n",
       "<table border=\"1\" class=\"dataframe\">\n",
       "  <thead>\n",
       "    <tr style=\"text-align: right;\">\n",
       "      <th></th>\n",
       "      <th>Year</th>\n",
       "      <th>Municipal_Code</th>\n",
       "      <th>Sector</th>\n",
       "      <th>Consumption</th>\n",
       "      <th>Price</th>\n",
       "      <th>Inflation</th>\n",
       "      <th>Total_energy_consum</th>\n",
       "    </tr>\n",
       "  </thead>\n",
       "  <tbody>\n",
       "    <tr>\n",
       "      <th>2</th>\n",
       "      <td>2013</td>\n",
       "      <td>17002</td>\n",
       "      <td>USOS DOMESTICS</td>\n",
       "      <td>1231527.0</td>\n",
       "      <td>0.065</td>\n",
       "      <td>1.7</td>\n",
       "      <td>201531</td>\n",
       "    </tr>\n",
       "    <tr>\n",
       "      <th>5</th>\n",
       "      <td>2014</td>\n",
       "      <td>17002</td>\n",
       "      <td>USOS DOMESTICS</td>\n",
       "      <td>1031488.0</td>\n",
       "      <td>0.070</td>\n",
       "      <td>0.1</td>\n",
       "      <td>204896</td>\n",
       "    </tr>\n",
       "    <tr>\n",
       "      <th>8</th>\n",
       "      <td>2015</td>\n",
       "      <td>17002</td>\n",
       "      <td>USOS DOMESTICS</td>\n",
       "      <td>1162227.0</td>\n",
       "      <td>0.070</td>\n",
       "      <td>-0.2</td>\n",
       "      <td>213746</td>\n",
       "    </tr>\n",
       "    <tr>\n",
       "      <th>11</th>\n",
       "      <td>2016</td>\n",
       "      <td>17002</td>\n",
       "      <td>USOS DOMESTICS</td>\n",
       "      <td>1108508.0</td>\n",
       "      <td>0.060</td>\n",
       "      <td>0.1</td>\n",
       "      <td>222514</td>\n",
       "    </tr>\n",
       "    <tr>\n",
       "      <th>14</th>\n",
       "      <td>2017</td>\n",
       "      <td>17002</td>\n",
       "      <td>USOS DOMESTICS</td>\n",
       "      <td>1184582.0</td>\n",
       "      <td>0.060</td>\n",
       "      <td>2.2</td>\n",
       "      <td>232187</td>\n",
       "    </tr>\n",
       "  </tbody>\n",
       "</table>\n",
       "</div>"
      ],
      "text/plain": [
       "    Year  Municipal_Code          Sector  Consumption  Price  Inflation  \\\n",
       "2   2013           17002  USOS DOMESTICS    1231527.0  0.065        1.7   \n",
       "5   2014           17002  USOS DOMESTICS    1031488.0  0.070        0.1   \n",
       "8   2015           17002  USOS DOMESTICS    1162227.0  0.070       -0.2   \n",
       "11  2016           17002  USOS DOMESTICS    1108508.0  0.060        0.1   \n",
       "14  2017           17002  USOS DOMESTICS    1184582.0  0.060        2.2   \n",
       "\n",
       "    Total_energy_consum  \n",
       "2                201531  \n",
       "5                204896  \n",
       "8                213746  \n",
       "11               222514  \n",
       "14               232187  "
      ]
     },
     "execution_count": 14,
     "metadata": {},
     "output_type": "execute_result"
    }
   ],
   "source": [
    "df_final = df_dom.copy()\n",
    "df_final.head(5)"
   ]
  },
  {
   "cell_type": "code",
   "execution_count": 15,
   "id": "9dcf619c-6349-4d00-bb6a-3af6ccdad0f8",
   "metadata": {},
   "outputs": [
    {
     "data": {
      "text/plain": [
       "Year                   0\n",
       "Municipal_Code         0\n",
       "Sector                 0\n",
       "Consumption            5\n",
       "Price                  0\n",
       "Inflation              0\n",
       "Total_energy_consum    0\n",
       "dtype: int64"
      ]
     },
     "execution_count": 15,
     "metadata": {},
     "output_type": "execute_result"
    }
   ],
   "source": [
    "df_final.isna().sum()"
   ]
  },
  {
   "cell_type": "code",
   "execution_count": 16,
   "id": "70e72438-5ca3-4708-b3c9-c26fe1e40465",
   "metadata": {},
   "outputs": [],
   "source": [
    "#calculating mean value for missing data\n",
    "def myfunc(x):\n",
    "    df_final[x]=df_final[x].fillna(df_final[x].mean())\n",
    "\n",
    "mylist = ['Consumption']\n",
    "for x in mylist:\n",
    "    myfunc(x)"
   ]
  },
  {
   "cell_type": "code",
   "execution_count": 17,
   "id": "87921eca-8d76-4cb1-ba8b-736b2b794b4b",
   "metadata": {},
   "outputs": [
    {
     "data": {
      "image/png": "[encoded data removed]",
      "text/plain": [
       "<Figure size 1080x288 with 2 Axes>"
      ]
     },
     "metadata": {
      "needs_background": "light"
     },
     "output_type": "display_data"
    }
   ],
   "source": [
    "#Correlation matrix\n",
    "fig,ax = plt.subplots(figsize=(15,4))\n",
    "corr = df_final.corr()\n",
    "sns.set_theme(style=\"white\")\n",
    "cmap = sns.diverging_palette(230, 20, as_cmap=True)\n",
    "\n",
    "matrix = np.triu(corr)\n",
    "sns.heatmap(corr, annot=True, mask=matrix, cmap=cmap)\n",
    "plt.show()"
   ]
  },
  {
   "cell_type": "code",
   "execution_count": 18,
   "id": "88bbfc2a-d8c9-4f7d-8112-410f729a40c1",
   "metadata": {},
   "outputs": [
    {
     "data": {
      "image/png": "[encoded data removed]",
      "text/plain": [
       "<Figure size 1080x288 with 1 Axes>"
      ]
     },
     "metadata": {},
     "output_type": "display_data"
    }
   ],
   "source": [
    "fig,ax = plt.subplots(figsize=(15,4))\n",
    "sns.set_theme(style=\"whitegrid\")\n",
    "\n",
    "sns.boxplot(x = 'Year',y='Consumption',data=df_final)\n",
    "plt.xlabel(\"Year\",fontsize=12)\n",
    "plt.ylabel(\"Consumption\",fontsize=12)\n",
    "plt.title(\"Consumption of natural gas\",fontsize=15)\n",
    "\n",
    "plt.show()"
   ]
  },
  {
   "cell_type": "code",
   "execution_count": 19,
   "id": "0c7a1d1c-bf75-450d-939d-b438be4660d1",
   "metadata": {},
   "outputs": [
    {
     "data": {
      "text/html": [
       "<div>\n",
       "<style scoped>\n",
       "    .dataframe tbody tr th:only-of-type {\n",
       "        vertical-align: middle;\n",
       "    }\n",
       "\n",
       "    .dataframe tbody tr th {\n",
       "        vertical-align: top;\n",
       "    }\n",
       "\n",
       "    .dataframe thead th {\n",
       "        text-align: right;\n",
       "    }\n",
       "</style>\n",
       "<table border=\"1\" class=\"dataframe\">\n",
       "  <thead>\n",
       "    <tr style=\"text-align: right;\">\n",
       "      <th></th>\n",
       "      <th>Year</th>\n",
       "      <th>Municipal_Code</th>\n",
       "      <th>Sector</th>\n",
       "      <th>Consumption</th>\n",
       "      <th>Price</th>\n",
       "      <th>Inflation</th>\n",
       "      <th>Total_energy_consum</th>\n",
       "    </tr>\n",
       "  </thead>\n",
       "  <tbody>\n",
       "    <tr>\n",
       "      <th>3833</th>\n",
       "      <td>2013</td>\n",
       "      <td>8019</td>\n",
       "      <td>USOS DOMESTICS</td>\n",
       "      <td>2.516416e+09</td>\n",
       "      <td>0.065</td>\n",
       "      <td>1.7</td>\n",
       "      <td>201531</td>\n",
       "    </tr>\n",
       "    <tr>\n",
       "      <th>3837</th>\n",
       "      <td>2014</td>\n",
       "      <td>8019</td>\n",
       "      <td>USOS DOMESTICS</td>\n",
       "      <td>2.332439e+09</td>\n",
       "      <td>0.070</td>\n",
       "      <td>0.1</td>\n",
       "      <td>204896</td>\n",
       "    </tr>\n",
       "    <tr>\n",
       "      <th>3841</th>\n",
       "      <td>2015</td>\n",
       "      <td>8019</td>\n",
       "      <td>USOS DOMESTICS</td>\n",
       "      <td>2.362253e+09</td>\n",
       "      <td>0.070</td>\n",
       "      <td>-0.2</td>\n",
       "      <td>213746</td>\n",
       "    </tr>\n",
       "    <tr>\n",
       "      <th>3845</th>\n",
       "      <td>2016</td>\n",
       "      <td>8019</td>\n",
       "      <td>USOS DOMESTICS</td>\n",
       "      <td>2.174079e+09</td>\n",
       "      <td>0.060</td>\n",
       "      <td>0.1</td>\n",
       "      <td>222514</td>\n",
       "    </tr>\n",
       "    <tr>\n",
       "      <th>3849</th>\n",
       "      <td>2017</td>\n",
       "      <td>8019</td>\n",
       "      <td>USOS DOMESTICS</td>\n",
       "      <td>2.232814e+09</td>\n",
       "      <td>0.060</td>\n",
       "      <td>2.2</td>\n",
       "      <td>232187</td>\n",
       "    </tr>\n",
       "    <tr>\n",
       "      <th>3853</th>\n",
       "      <td>2018</td>\n",
       "      <td>8019</td>\n",
       "      <td>USOS DOMESTICS</td>\n",
       "      <td>2.544151e+09</td>\n",
       "      <td>0.060</td>\n",
       "      <td>1.8</td>\n",
       "      <td>241670</td>\n",
       "    </tr>\n",
       "    <tr>\n",
       "      <th>3857</th>\n",
       "      <td>2019</td>\n",
       "      <td>8019</td>\n",
       "      <td>USOS DOMESTICS</td>\n",
       "      <td>2.329508e+09</td>\n",
       "      <td>0.065</td>\n",
       "      <td>0.9</td>\n",
       "      <td>249900</td>\n",
       "    </tr>\n",
       "    <tr>\n",
       "      <th>3861</th>\n",
       "      <td>2020</td>\n",
       "      <td>8019</td>\n",
       "      <td>USOS DOMESTICS</td>\n",
       "      <td>2.145951e+09</td>\n",
       "      <td>0.060</td>\n",
       "      <td>-0.4</td>\n",
       "      <td>224125</td>\n",
       "    </tr>\n",
       "  </tbody>\n",
       "</table>\n",
       "</div>"
      ],
      "text/plain": [
       "      Year  Municipal_Code          Sector   Consumption  Price  Inflation  \\\n",
       "3833  2013            8019  USOS DOMESTICS  2.516416e+09  0.065        1.7   \n",
       "3837  2014            8019  USOS DOMESTICS  2.332439e+09  0.070        0.1   \n",
       "3841  2015            8019  USOS DOMESTICS  2.362253e+09  0.070       -0.2   \n",
       "3845  2016            8019  USOS DOMESTICS  2.174079e+09  0.060        0.1   \n",
       "3849  2017            8019  USOS DOMESTICS  2.232814e+09  0.060        2.2   \n",
       "3853  2018            8019  USOS DOMESTICS  2.544151e+09  0.060        1.8   \n",
       "3857  2019            8019  USOS DOMESTICS  2.329508e+09  0.065        0.9   \n",
       "3861  2020            8019  USOS DOMESTICS  2.145951e+09  0.060       -0.4   \n",
       "\n",
       "      Total_energy_consum  \n",
       "3833               201531  \n",
       "3837               204896  \n",
       "3841               213746  \n",
       "3845               222514  \n",
       "3849               232187  \n",
       "3853               241670  \n",
       "3857               249900  \n",
       "3861               224125  "
      ]
     },
     "execution_count": 19,
     "metadata": {},
     "output_type": "execute_result"
    }
   ],
   "source": [
    "#dealing with outliers - in case of this dataset its Barcelona region\n",
    "df_barcelona = df_final.loc[df_final['Municipal_Code'] == 8019]\n",
    "df_barcelona"
   ]
  },
  {
   "cell_type": "code",
   "execution_count": 20,
   "id": "78601d72-a317-43be-8227-0bfabd86f65d",
   "metadata": {},
   "outputs": [],
   "source": [
    "df3 = df_final[ df_final['Municipal_Code'] == 8019] # Step 1\n",
    "df_final = df_final.drop(df3.index, axis=0) # Step 2"
   ]
  },
  {
   "cell_type": "code",
   "execution_count": 21,
   "id": "f5124553-4576-4ec1-91d1-612aeb98497a",
   "metadata": {},
   "outputs": [
    {
     "data": {
      "text/html": [
       "<div>\n",
       "<style scoped>\n",
       "    .dataframe tbody tr th:only-of-type {\n",
       "        vertical-align: middle;\n",
       "    }\n",
       "\n",
       "    .dataframe tbody tr th {\n",
       "        vertical-align: top;\n",
       "    }\n",
       "\n",
       "    .dataframe thead th {\n",
       "        text-align: right;\n",
       "    }\n",
       "</style>\n",
       "<table border=\"1\" class=\"dataframe\">\n",
       "  <thead>\n",
       "    <tr style=\"text-align: right;\">\n",
       "      <th></th>\n",
       "      <th>Year</th>\n",
       "      <th>Municipal_Code</th>\n",
       "      <th>Sector</th>\n",
       "      <th>Consumption</th>\n",
       "      <th>Price</th>\n",
       "      <th>Inflation</th>\n",
       "      <th>Total_energy_consum</th>\n",
       "    </tr>\n",
       "  </thead>\n",
       "  <tbody>\n",
       "    <tr>\n",
       "      <th>2</th>\n",
       "      <td>2013</td>\n",
       "      <td>17002</td>\n",
       "      <td>USOS DOMESTICS</td>\n",
       "      <td>1231527.0</td>\n",
       "      <td>0.065</td>\n",
       "      <td>1.7</td>\n",
       "      <td>201531</td>\n",
       "    </tr>\n",
       "    <tr>\n",
       "      <th>5</th>\n",
       "      <td>2014</td>\n",
       "      <td>17002</td>\n",
       "      <td>USOS DOMESTICS</td>\n",
       "      <td>1031488.0</td>\n",
       "      <td>0.070</td>\n",
       "      <td>0.1</td>\n",
       "      <td>204896</td>\n",
       "    </tr>\n",
       "    <tr>\n",
       "      <th>8</th>\n",
       "      <td>2015</td>\n",
       "      <td>17002</td>\n",
       "      <td>USOS DOMESTICS</td>\n",
       "      <td>1162227.0</td>\n",
       "      <td>0.070</td>\n",
       "      <td>-0.2</td>\n",
       "      <td>213746</td>\n",
       "    </tr>\n",
       "    <tr>\n",
       "      <th>11</th>\n",
       "      <td>2016</td>\n",
       "      <td>17002</td>\n",
       "      <td>USOS DOMESTICS</td>\n",
       "      <td>1108508.0</td>\n",
       "      <td>0.060</td>\n",
       "      <td>0.1</td>\n",
       "      <td>222514</td>\n",
       "    </tr>\n",
       "    <tr>\n",
       "      <th>14</th>\n",
       "      <td>2017</td>\n",
       "      <td>17002</td>\n",
       "      <td>USOS DOMESTICS</td>\n",
       "      <td>1184582.0</td>\n",
       "      <td>0.060</td>\n",
       "      <td>2.2</td>\n",
       "      <td>232187</td>\n",
       "    </tr>\n",
       "  </tbody>\n",
       "</table>\n",
       "</div>"
      ],
      "text/plain": [
       "    Year  Municipal_Code          Sector  Consumption  Price  Inflation  \\\n",
       "2   2013           17002  USOS DOMESTICS    1231527.0  0.065        1.7   \n",
       "5   2014           17002  USOS DOMESTICS    1031488.0  0.070        0.1   \n",
       "8   2015           17002  USOS DOMESTICS    1162227.0  0.070       -0.2   \n",
       "11  2016           17002  USOS DOMESTICS    1108508.0  0.060        0.1   \n",
       "14  2017           17002  USOS DOMESTICS    1184582.0  0.060        2.2   \n",
       "\n",
       "    Total_energy_consum  \n",
       "2                201531  \n",
       "5                204896  \n",
       "8                213746  \n",
       "11               222514  \n",
       "14               232187  "
      ]
     },
     "execution_count": 21,
     "metadata": {},
     "output_type": "execute_result"
    }
   ],
   "source": [
    "df_final.head(5)"
   ]
  },
  {
   "cell_type": "code",
   "execution_count": 22,
   "id": "1ec849c6-e535-4e5d-a290-3b7d588526a6",
   "metadata": {},
   "outputs": [
    {
     "data": {
      "image/png": "[encoded data removed]",
      "text/plain": [
       "<Figure size 1080x288 with 1 Axes>"
      ]
     },
     "metadata": {},
     "output_type": "display_data"
    }
   ],
   "source": [
    "fig,ax = plt.subplots(figsize=(15,4))\n",
    "sns.set_theme(style=\"whitegrid\")\n",
    "\n",
    "sns.boxplot(x = 'Year',y='Consumption',data=df_final)\n",
    "plt.xlabel(\"Year\",fontsize=12)\n",
    "plt.ylabel(\"Consumption\",fontsize=12)\n",
    "plt.title(\"Consumption of natural gas\",fontsize=15)\n",
    "\n",
    "plt.show()"
   ]
  },
  {
   "cell_type": "markdown",
   "id": "4ff9e97a-7d9a-4189-97dd-28c3255c8c6a",
   "metadata": {},
   "source": [
    "## Level 1"
   ]
  },
  {
   "cell_type": "markdown",
   "id": "595dd2f4-3a45-4031-ada6-acc408843361",
   "metadata": {},
   "source": [
    "### Exercise 1"
   ]
  },
  {
   "cell_type": "markdown",
   "id": "f7432b64-c7fa-4682-9f43-d0afee1fd5c2",
   "metadata": {},
   "source": [
    "#### Aplication of Pipeline and GridSearch with Random Forest"
   ]
  },
  {
   "cell_type": "code",
   "execution_count": 23,
   "id": "4b44451b-351c-4db2-ac7c-9f6f5631c0ba",
   "metadata": {},
   "outputs": [],
   "source": [
    "#train and test\n",
    "X = df_final.drop(['Consumption','Sector'],axis=1)\n",
    "y = df_final['Consumption']\n",
    "#Train 70%, test 30%, test_size is the percentage and random_state is for initilizing random number generator\n",
    "X_train, X_test, y_train, y_test = train_test_split(X, y, test_size=0.3, random_state=42)"
   ]
  },
  {
   "cell_type": "code",
   "execution_count": 24,
   "id": "b889dc7d-948a-4cff-bb18-c226914243c4",
   "metadata": {},
   "outputs": [],
   "source": [
    "#steps: what will pipleline do\n",
    "steps = [('scaler', StandardScaler()), ('RF', RandomForestRegressor())]\n",
    "#pipline instance\n",
    "pipeline = Pipeline(steps)"
   ]
  },
  {
   "cell_type": "code",
   "execution_count": 25,
   "id": "34211c28-5a16-417f-bd2e-9e7624ccd0cc",
   "metadata": {},
   "outputs": [
    {
     "data": {
      "text/plain": [
       "GridSearchCV(cv=5,\n",
       "             estimator=Pipeline(steps=[('scaler', StandardScaler()),\n",
       "                                       ('RF', RandomForestRegressor())]),\n",
       "             param_grid={'RF__max_depth': [1, 5, 10],\n",
       "                         'RF__n_estimators': [10, 20, 30, 40, 50, 100]})"
      ]
     },
     "execution_count": 25,
     "metadata": {},
     "output_type": "execute_result"
    }
   ],
   "source": [
    "parameteres = {'RF__n_estimators':[10,20,30,40,50,100], 'RF__max_depth':[1,5,10]}\n",
    "grid = GridSearchCV(pipeline, param_grid=parameteres, cv=5)\n",
    "grid.fit(X_train, y_train)"
   ]
  },
  {
   "cell_type": "code",
   "execution_count": 26,
   "id": "2b72a2d7-5365-4cde-b2ef-ffd5fcaf6b5b",
   "metadata": {},
   "outputs": [
    {
     "name": "stdout",
     "output_type": "stream",
     "text": [
      "score = 0.90\n",
      "{'RF__max_depth': 10, 'RF__n_estimators': 40}\n"
     ]
    }
   ],
   "source": [
    "print(\"score = %3.2f\" %(grid.score(X_test,y_test)))\n",
    "print(grid.best_params_)"
   ]
  },
  {
   "cell_type": "code",
   "execution_count": 27,
   "id": "d2b367b1-4f27-405b-a2a4-05fb82212cee",
   "metadata": {},
   "outputs": [
    {
     "data": {
      "text/plain": [
       "Pipeline(steps=[('scaler', StandardScaler()),\n",
       "                ('RF', RandomForestRegressor(max_depth=10, n_estimators=30))])"
      ]
     },
     "execution_count": 27,
     "metadata": {},
     "output_type": "execute_result"
    }
   ],
   "source": [
    "#creating the best model\n",
    "model = Pipeline(steps=[('scaler', StandardScaler()),\n",
    "                       ('RF', RandomForestRegressor(max_depth=10,n_estimators=30))])\n",
    "model.fit(X_train, y_train)"
   ]
  },
  {
   "cell_type": "code",
   "execution_count": 28,
   "id": "d5e466a2-e0a3-47da-9d93-223576364ce7",
   "metadata": {
    "tags": []
   },
   "outputs": [
    {
     "data": {
      "text/plain": [
       "array([ 7388444.40657407,  3243259.69851523,  2407619.12980157,\n",
       "       23310393.62251   ,  5832077.67001945,  7624212.0527011 ,\n",
       "       21522141.00133127,  3848180.82237707, 21758581.27319951,\n",
       "       31822818.55494789])"
      ]
     },
     "execution_count": 28,
     "metadata": {},
     "output_type": "execute_result"
    }
   ],
   "source": [
    "x = model.predict(X_test)\n",
    "x[:10]"
   ]
  },
  {
   "cell_type": "code",
   "execution_count": 43,
   "id": "572dcbd3-3461-4f2b-97ad-ed580a1441a5",
   "metadata": {},
   "outputs": [
    {
     "data": {
      "image/png": "[encoded data removed]",
      "text/plain": [
       "<Figure size 1080x288 with 1 Axes>"
      ]
     },
     "metadata": {},
     "output_type": "display_data"
    }
   ],
   "source": [
    "#compare values from test and predict\n",
    "y1 = y_test.reset_index(drop=True)\n",
    "y2 = pd.Series(model.predict(X_test))\n",
    "\n",
    "#for simple visualization let's take sistematic sample\n",
    "step_num = 10\n",
    "def randomNum():\n",
    "    num = np.random.randint(1, 50)\n",
    "    return num\n",
    "num = randomNum()\n",
    "\n",
    "simple_df1 = y1[num:len(y1):step_num]\n",
    "simple_df2 = y2[num:len(y2):step_num]\n",
    "\n",
    "plt.figure(figsize =(15, 4))\n",
    "\n",
    "sns.lineplot(data=simple_df1, color='#008ae6',label='original', marker='o')\n",
    "sns.lineplot(data=simple_df2, color='#e6005c',label='predicted', marker='o')\n",
    "plt.title(\"Consumption of natural gas in Catalonia\",fontsize=15)\n",
    "plt.xlabel(\"Price\",fontsize=12)\n",
    "plt.ylabel(\"Original and predicted data\",fontsize=12)\n",
    "\n",
    "plt.show()"
   ]
  },
  {
   "cell_type": "markdown",
   "id": "7e10eaac-b147-47d8-aaee-840390be5851",
   "metadata": {},
   "source": [
    "### Exercise 2"
   ]
  },
  {
   "cell_type": "markdown",
   "id": "43ec45b1-2a1a-474d-a7a7-689a87d0aad7",
   "metadata": {},
   "source": [
    "#### Frequency of words in english text"
   ]
  },
  {
   "cell_type": "code",
   "execution_count": 30,
   "id": "9e99b3ac-005b-4210-a1e3-1ae592e3501c",
   "metadata": {},
   "outputs": [
    {
     "data": {
      "text/plain": [
       "True"
      ]
     },
     "execution_count": 30,
     "metadata": {},
     "output_type": "execute_result"
    }
   ],
   "source": [
    "import nltk\n",
    "from nltk.tokenize import sent_tokenize\n",
    "from nltk.tokenize import word_tokenize\n",
    "from nltk.probability import FreqDist\n",
    "nltk.download('punkt', quiet=True)"
   ]
  },
  {
   "cell_type": "code",
   "execution_count": 31,
   "id": "be8d34e2-06b5-4ff3-a43a-1cdbccc45795",
   "metadata": {},
   "outputs": [],
   "source": [
    "text = open(\"words.txt\").read()"
   ]
  },
  {
   "cell_type": "code",
   "execution_count": 32,
   "id": "d5ea78c7-fb7d-495c-80cb-f9dea20ad09d",
   "metadata": {},
   "outputs": [
    {
     "name": "stdout",
     "output_type": "stream",
     "text": [
      "[\"Natural gas prices have surged in Europe as countries exit COVID-19 lockdown, fuelling a crisis that is likely to impact consumers' bills this winter.\", 'The cost is now six times higher than what it was last year in Europe and is continuing to increase, with the crisis unlikely to abate before the spring.', 'Governments are scrambling to issue subsidies and cut taxes in an effort to protect consumers.', \"Here are five charts to help you visualise what's going on.\", 'The price of natural gas is six times higher than last year and about four times higher than this past spring.', \"It's due to an increase in demand globally as countries restart their economies and come out of lockdown.\", 'A longer winter last year and competition from East Asian countries for gas has influenced rising prices.', 'There are also problems on the supply end, with delayed maintenance and less investment causing problems.', \"These gas prices are in turn determining the price in electricity markets, as over a fifth of Europe's electricity comes from natural gas.\"]\n"
     ]
    }
   ],
   "source": [
    "tokenized_text=sent_tokenize(text)\n",
    "print(tokenized_text)"
   ]
  },
  {
   "cell_type": "code",
   "execution_count": 33,
   "id": "dbbdaaa6-d2a3-415f-8572-073644d55d35",
   "metadata": {},
   "outputs": [
    {
     "name": "stdout",
     "output_type": "stream",
     "text": [
      "[\"Natural gas prices have surged in Europe as countries exit COVID-19 lockdown, fuelling a crisis that is likely to impact consumers' bills this winter.\", 'The cost is now six times higher than what it was last year in Europe and is continuing to increase, with the crisis unlikely to abate before the spring.', 'Governments are scrambling to issue subsidies and cut taxes in an effort to protect consumers.', \"Here are five charts to help you visualise what's going on.\", 'The price of natural gas is six times higher than last year and about four times higher than this past spring.', \"It's due to an increase in demand globally as countries restart their economies and come out of lockdown.\", 'A longer winter last year and competition from East Asian countries for gas has influenced rising prices.', 'There are also problems on the supply end, with delayed maintenance and less investment causing problems.', \"These gas prices are in turn determining the price in electricity markets, as over a fifth of Europe's electricity comes from natural gas.\"]\n"
     ]
    }
   ],
   "source": [
    "tokenized_word=word_tokenize(text)\n",
    "print(tokenized_text)"
   ]
  },
  {
   "cell_type": "code",
   "execution_count": 34,
   "id": "4c79c339-64fa-4547-8f6c-2a1456fc5ca0",
   "metadata": {},
   "outputs": [
    {
     "name": "stdout",
     "output_type": "stream",
     "text": [
      "<FreqDist with 110 samples and 191 outcomes>\n"
     ]
    }
   ],
   "source": [
    "fdist = FreqDist(tokenized_word)\n",
    "print(fdist)"
   ]
  },
  {
   "cell_type": "code",
   "execution_count": 35,
   "id": "5ab5b372-0ea4-4946-9735-05b9e1ba3066",
   "metadata": {},
   "outputs": [
    {
     "data": {
      "text/plain": [
       "[('.', 9), ('to', 7)]"
      ]
     },
     "execution_count": 35,
     "metadata": {},
     "output_type": "execute_result"
    }
   ],
   "source": [
    "fdist.most_common(2)"
   ]
  },
  {
   "cell_type": "code",
   "execution_count": 36,
   "id": "addf038a-50d5-4fa0-8bef-c6bacc8f18db",
   "metadata": {
    "tags": []
   },
   "outputs": [
    {
     "data": {
      "image/png": "[encoded data removed]",
      "text/plain": [
       "<Figure size 1080x288 with 1 Axes>"
      ]
     },
     "metadata": {},
     "output_type": "display_data"
    }
   ],
   "source": [
    "plt.figure(figsize =(15, 4))\n",
    "fdist.plot(30,cumulative=False)\n",
    "plt.show()"
   ]
  },
  {
   "cell_type": "markdown",
   "id": "1f7a09ad-fe6a-4dbb-9f10-fbe25ddd40f8",
   "metadata": {},
   "source": [
    "## Level 2"
   ]
  },
  {
   "cell_type": "markdown",
   "id": "99545f6a-7d7c-4745-a410-bd5513194cb4",
   "metadata": {},
   "source": [
    "### Exercise 3"
   ]
  },
  {
   "cell_type": "markdown",
   "id": "2c168c30-7b17-4077-9f50-b7d2740360cd",
   "metadata": {},
   "source": [
    "#### Stopwords, stemming"
   ]
  },
  {
   "cell_type": "code",
   "execution_count": 37,
   "id": "9b22128f-9a84-410b-87b3-c86efe121a43",
   "metadata": {},
   "outputs": [
    {
     "name": "stdout",
     "output_type": "stream",
     "text": [
      "{'its', 'whom', 'no', 'himself', 'this', 'than', 'from', 'now', \"shan't\", \"you'd\", \"you'll\", \"aren't\", 'has', 'other', 'more', 'won', 'been', 'which', 'but', 'having', \"wouldn't\", 'too', 'hers', 'until', 'he', 're', 'against', 'were', 'if', \"shouldn't\", 'hasn', \"should've\", 'while', 'doing', 'some', 'just', 'to', 'once', 'hadn', 'you', 'for', 'an', 'how', 'd', \"don't\", \"hadn't\", \"weren't\", 'after', \"haven't\", 'into', 'weren', 'my', 'when', 'what', 'by', 'few', 'there', 'why', 'them', 'above', 'does', 'did', 'and', 'o', \"needn't\", 'most', 'of', \"couldn't\", 'shouldn', 'such', 'only', 'yourselves', 'as', 'should', 'mightn', 'then', 'she', 'who', 'shan', \"wasn't\", 'the', 'your', 'down', 'theirs', 'we', 'about', 'they', 'her', 'ourselves', 'myself', 'll', 'mustn', 'itself', 'ours', 've', 'any', 'own', 'was', 'him', \"you're\", 'each', 'nor', 'is', 'further', 'themselves', 'in', \"it's\", 'between', \"you've\", 'very', 'their', 'during', 'here', 'not', 'be', 'do', 'those', \"mightn't\", 'ma', 'wasn', 'ain', 'herself', 'it', 'both', 'over', 't', 'isn', \"won't\", 'me', 'same', 'being', 'can', \"doesn't\", 'with', 'so', 'before', 'yourself', 'a', 'haven', \"mustn't\", 'again', 'wouldn', 'up', 'all', 'through', 'our', \"that'll\", \"she's\", 'these', 'under', \"isn't\", 'y', \"didn't\", 'i', 'on', 'where', 'am', 'out', 'needn', 'because', 'doesn', 'off', 'or', 'will', \"hasn't\", 'have', 'm', 'his', 'below', 's', 'didn', 'at', 'aren', 'couldn', 'are', 'had', 'don', 'yours', 'that'}\n"
     ]
    }
   ],
   "source": [
    "from nltk.corpus import stopwords\n",
    "nltk.download('stopwords', quiet=True)\n",
    "stop_words=set(stopwords.words(\"english\"))\n",
    "print(stop_words)"
   ]
  },
  {
   "cell_type": "code",
   "execution_count": 38,
   "id": "71f3efd1-8277-46d2-b0bc-0ee2d4fb0891",
   "metadata": {},
   "outputs": [
    {
     "name": "stdout",
     "output_type": "stream",
     "text": [
      "Filterd Sentence: ['Natural', 'gas', 'prices', 'surged', 'Europe', 'countries', 'exit', 'COVID-19', 'lockdown', ',', 'fuelling', 'crisis', 'likely', 'impact', 'consumers', \"'\", 'bills', 'winter', '.', 'The', 'cost', 'six', 'times', 'higher', 'last', 'year', 'Europe', 'continuing', 'increase', ',', 'crisis', 'unlikely', 'abate', 'spring', '.', 'Governments', 'scrambling', 'issue', 'subsidies', 'cut', 'taxes', 'effort', 'protect', 'consumers', '.', 'Here', 'five', 'charts', 'help', 'visualise', \"'s\", 'going', '.', 'The', 'price', 'natural', 'gas', 'six', 'times', 'higher', 'last', 'year', 'four', 'times', 'higher', 'past', 'spring', '.', 'It', \"'s\", 'due', 'increase', 'demand', 'globally', 'countries', 'restart', 'economies', 'come', 'lockdown', '.', 'A', 'longer', 'winter', 'last', 'year', 'competition', 'East', 'Asian', 'countries', 'gas', 'influenced', 'rising', 'prices', '.', 'There', 'also', 'problems', 'supply', 'end', ',', 'delayed', 'maintenance', 'less', 'investment', 'causing', 'problems', '.', 'These', 'gas', 'prices', 'turn', 'determining', 'price', 'electricity', 'markets', ',', 'fifth', 'Europe', \"'s\", 'electricity', 'comes', 'natural', 'gas', '.']\n"
     ]
    }
   ],
   "source": [
    "#removing stopwords\n",
    "filtered_sent=[]\n",
    "for w in tokenized_word:\n",
    "    if w not in stop_words:\n",
    "        filtered_sent.append(w)\n",
    "\n",
    "print(\"Filterd Sentence:\",filtered_sent)"
   ]
  },
  {
   "cell_type": "code",
   "execution_count": 39,
   "id": "a48f896b-e4aa-4c95-929f-3d7732b10510",
   "metadata": {},
   "outputs": [
    {
     "name": "stdout",
     "output_type": "stream",
     "text": [
      "Stemmed Sentence: ['natur', 'ga', 'price', 'surg', 'europ', 'countri', 'exit', 'covid-19', 'lockdown', ',', 'fuell', 'crisi', 'like', 'impact', 'consum', \"'\", 'bill', 'winter', '.', 'the', 'cost', 'six', 'time', 'higher', 'last', 'year', 'europ', 'continu', 'increas', ',', 'crisi', 'unlik', 'abat', 'spring', '.', 'govern', 'scrambl', 'issu', 'subsidi', 'cut', 'tax', 'effort', 'protect', 'consum', '.', 'here', 'five', 'chart', 'help', 'visualis', \"'s\", 'go', '.', 'the', 'price', 'natur', 'ga', 'six', 'time', 'higher', 'last', 'year', 'four', 'time', 'higher', 'past', 'spring', '.', 'it', \"'s\", 'due', 'increas', 'demand', 'global', 'countri', 'restart', 'economi', 'come', 'lockdown', '.', 'a', 'longer', 'winter', 'last', 'year', 'competit', 'east', 'asian', 'countri', 'ga', 'influenc', 'rise', 'price', '.', 'there', 'also', 'problem', 'suppli', 'end', ',', 'delay', 'mainten', 'less', 'invest', 'caus', 'problem', '.', 'these', 'ga', 'price', 'turn', 'determin', 'price', 'electr', 'market', ',', 'fifth', 'europ', \"'s\", 'electr', 'come', 'natur', 'ga', '.']\n"
     ]
    }
   ],
   "source": [
    "#stemming\n",
    "from nltk.stem import PorterStemmer\n",
    "from nltk.tokenize import sent_tokenize, word_tokenize\n",
    "\n",
    "ps = PorterStemmer()\n",
    "\n",
    "stemmed_words=[]\n",
    "for w in filtered_sent:\n",
    "    stemmed_words.append(ps.stem(w))\n",
    "\n",
    "print(\"Stemmed Sentence:\",stemmed_words)"
   ]
  },
  {
   "cell_type": "code",
   "execution_count": 40,
   "id": "239e5831-0ea1-4963-ac6f-a26d5b8c3526",
   "metadata": {},
   "outputs": [
    {
     "data": {
      "text/plain": [
       "[('Natural', 'NNP'),\n",
       " ('gas', 'NN'),\n",
       " ('prices', 'NNS'),\n",
       " ('have', 'VBP'),\n",
       " ('surged', 'VBD'),\n",
       " ('in', 'IN'),\n",
       " ('Europe', 'NNP'),\n",
       " ('as', 'IN'),\n",
       " ('countries', 'NNS'),\n",
       " ('exit', 'VBP')]"
      ]
     },
     "execution_count": 40,
     "metadata": {},
     "output_type": "execute_result"
    }
   ],
   "source": [
    "#Part-of-Speech(POS) tagging\n",
    "nltk.download('averaged_perceptron_tagger', quiet=True)\n",
    "a = nltk.pos_tag(tokenized_word)\n",
    "a[:10]"
   ]
  },
  {
   "cell_type": "markdown",
   "id": "02b18893-bdc0-47c6-a059-0babeca138f2",
   "metadata": {},
   "source": [
    "## Level 3"
   ]
  },
  {
   "cell_type": "markdown",
   "id": "3f1b5f85-f966-4c2d-b36f-54a7da3ded37",
   "metadata": {},
   "source": [
    "### Exercise 4"
   ]
  },
  {
   "cell_type": "markdown",
   "id": "9aefdea1-fe02-4309-8858-048727e1ed2a",
   "metadata": {},
   "source": [
    "#### Sentiment analysis"
   ]
  },
  {
   "cell_type": "markdown",
   "id": "5b1cfd77-5be4-496a-8bb6-e3a9ec32fad6",
   "metadata": {},
   "source": [
    "For this exercise I will use dataset from kaggle: https://www.kaggle.com/ankurzing/sentiment-analysis-for-financial-news"
   ]
  },
  {
   "cell_type": "code",
   "execution_count": 69,
   "id": "dd038d0c-2555-42d0-8309-d01afc6a8a15",
   "metadata": {},
   "outputs": [],
   "source": [
    "from sklearn.feature_extraction.text import CountVectorizer\n",
    "from nltk.tokenize import RegexpTokenizer\n",
    "from sklearn.naive_bayes import MultinomialNB\n",
    "from sklearn import metrics\n",
    "from sklearn.feature_extraction.text import TfidfVectorizer"
   ]
  },
  {
   "cell_type": "code",
   "execution_count": 45,
   "id": "cfdfd2af-f08b-4012-b190-20b6bf8d5a72",
   "metadata": {},
   "outputs": [
    {
     "data": {
      "text/html": [
       "<div>\n",
       "<style scoped>\n",
       "    .dataframe tbody tr th:only-of-type {\n",
       "        vertical-align: middle;\n",
       "    }\n",
       "\n",
       "    .dataframe tbody tr th {\n",
       "        vertical-align: top;\n",
       "    }\n",
       "\n",
       "    .dataframe thead th {\n",
       "        text-align: right;\n",
       "    }\n",
       "</style>\n",
       "<table border=\"1\" class=\"dataframe\">\n",
       "  <thead>\n",
       "    <tr style=\"text-align: right;\">\n",
       "      <th></th>\n",
       "      <th>Sentiment</th>\n",
       "      <th>Text</th>\n",
       "    </tr>\n",
       "  </thead>\n",
       "  <tbody>\n",
       "    <tr>\n",
       "      <th>0</th>\n",
       "      <td>neutral</td>\n",
       "      <td>According to Gran , the company has no plans t...</td>\n",
       "    </tr>\n",
       "    <tr>\n",
       "      <th>1</th>\n",
       "      <td>neutral</td>\n",
       "      <td>Technopolis plans to develop in stages an area...</td>\n",
       "    </tr>\n",
       "    <tr>\n",
       "      <th>2</th>\n",
       "      <td>negative</td>\n",
       "      <td>The international electronic industry company ...</td>\n",
       "    </tr>\n",
       "  </tbody>\n",
       "</table>\n",
       "</div>"
      ],
      "text/plain": [
       "  Sentiment                                               Text\n",
       "0   neutral  According to Gran , the company has no plans t...\n",
       "1   neutral  Technopolis plans to develop in stages an area...\n",
       "2  negative  The international electronic industry company ..."
      ]
     },
     "execution_count": 45,
     "metadata": {},
     "output_type": "execute_result"
    }
   ],
   "source": [
    "colnames=['Sentiment', 'Text'] \n",
    "df_financial = pd.read_csv(\"all-data.csv\",names=colnames, header=None )\n",
    "df_financial.head(3)"
   ]
  },
  {
   "cell_type": "markdown",
   "id": "320dbe37-4669-4434-b84f-5bbfc07a3334",
   "metadata": {},
   "source": [
    "Labels: -1: negative, 0: neutral, 1: positive"
   ]
  },
  {
   "cell_type": "code",
   "execution_count": 49,
   "id": "9f2a06e0-4bfa-49df-8d1c-bdcf2ce645f5",
   "metadata": {},
   "outputs": [],
   "source": [
    "conditions4 = [\n",
    "    (df_financial['Sentiment'] == 'negative'),\n",
    "    (df_financial['Sentiment'] == 'neutral'),\n",
    "    (df_financial['Sentiment'] == 'positive')]\n",
    "\n",
    "values = [-1, 0, 1]\n",
    "\n",
    "df_financial['Sentiment_value'] = np.select(conditions4, values)"
   ]
  },
  {
   "cell_type": "code",
   "execution_count": 50,
   "id": "e50e5384-e512-4edb-a9f1-7ed1efcb3d66",
   "metadata": {},
   "outputs": [
    {
     "data": {
      "text/html": [
       "<div>\n",
       "<style scoped>\n",
       "    .dataframe tbody tr th:only-of-type {\n",
       "        vertical-align: middle;\n",
       "    }\n",
       "\n",
       "    .dataframe tbody tr th {\n",
       "        vertical-align: top;\n",
       "    }\n",
       "\n",
       "    .dataframe thead th {\n",
       "        text-align: right;\n",
       "    }\n",
       "</style>\n",
       "<table border=\"1\" class=\"dataframe\">\n",
       "  <thead>\n",
       "    <tr style=\"text-align: right;\">\n",
       "      <th></th>\n",
       "      <th>Sentiment</th>\n",
       "      <th>Text</th>\n",
       "      <th>Sentiment_value</th>\n",
       "    </tr>\n",
       "  </thead>\n",
       "  <tbody>\n",
       "    <tr>\n",
       "      <th>0</th>\n",
       "      <td>neutral</td>\n",
       "      <td>According to Gran , the company has no plans t...</td>\n",
       "      <td>0</td>\n",
       "    </tr>\n",
       "    <tr>\n",
       "      <th>1</th>\n",
       "      <td>neutral</td>\n",
       "      <td>Technopolis plans to develop in stages an area...</td>\n",
       "      <td>0</td>\n",
       "    </tr>\n",
       "    <tr>\n",
       "      <th>2</th>\n",
       "      <td>negative</td>\n",
       "      <td>The international electronic industry company ...</td>\n",
       "      <td>-1</td>\n",
       "    </tr>\n",
       "  </tbody>\n",
       "</table>\n",
       "</div>"
      ],
      "text/plain": [
       "  Sentiment                                               Text  \\\n",
       "0   neutral  According to Gran , the company has no plans t...   \n",
       "1   neutral  Technopolis plans to develop in stages an area...   \n",
       "2  negative  The international electronic industry company ...   \n",
       "\n",
       "   Sentiment_value  \n",
       "0                0  \n",
       "1                0  \n",
       "2               -1  "
      ]
     },
     "execution_count": 50,
     "metadata": {},
     "output_type": "execute_result"
    }
   ],
   "source": [
    "df_financial.head(3)"
   ]
  },
  {
   "cell_type": "code",
   "execution_count": 56,
   "id": "79321687-5d31-4fe3-9c1f-f93cbc815dd9",
   "metadata": {},
   "outputs": [
    {
     "data": {
      "text/plain": [
       " 0    46\n",
       " 1    35\n",
       "-1    19\n",
       "Name: Sentiment_value, dtype: int64"
      ]
     },
     "execution_count": 56,
     "metadata": {},
     "output_type": "execute_result"
    }
   ],
   "source": [
    "df_sample = df_financial.sample(100)\n",
    "df_sample.Sentiment_value.value_counts()"
   ]
  },
  {
   "cell_type": "code",
   "execution_count": 61,
   "id": "5bd2d492-f3b3-4b41-9854-eff19fd47e59",
   "metadata": {},
   "outputs": [
    {
     "data": {
      "image/png": "[encoded data removed]",
      "text/plain": [
       "<Figure size 720x288 with 1 Axes>"
      ]
     },
     "metadata": {},
     "output_type": "display_data"
    }
   ],
   "source": [
    "plt.figure(figsize =(10, 4))\n",
    "Sentiment_count=df_sample.groupby('Sentiment_value').count()\n",
    "plt.bar(Sentiment_count.index.values, Sentiment_count['Text'])\n",
    "plt.xlabel('Review Sentiments')\n",
    "plt.ylabel('Number of Review')\n",
    "plt.show()"
   ]
  },
  {
   "cell_type": "code",
   "execution_count": 155,
   "id": "6648bbf2-5324-43b7-ae9b-c9bfdf49f58a",
   "metadata": {},
   "outputs": [],
   "source": [
    "#tokenizer to remove unwanted elements\n",
    "token = RegexpTokenizer(r'[a-zA-Z0-9]+')\n",
    "cv = CountVectorizer(lowercase=True,stop_words='english',ngram_range = (1,1),tokenizer = token.tokenize)\n",
    "text_counts= cv.fit_transform(df_sample['Text'])\n",
    "#train and test\n",
    "X_train, X_test, y_train, y_test = train_test_split(text_counts, df_sample['Sentiment_value'], test_size=0.3, random_state=1)"
   ]
  },
  {
   "cell_type": "code",
   "execution_count": 156,
   "id": "15d7a7ae-9055-4481-a7ae-2f75fe16ea77",
   "metadata": {},
   "outputs": [
    {
     "name": "stdout",
     "output_type": "stream",
     "text": [
      "MultinomialNB Accuracy: 0.5333333333333333\n"
     ]
    }
   ],
   "source": [
    "clf = MultinomialNB().fit(X_train, y_train)\n",
    "predicted= clf.predict(X_test)\n",
    "print(\"MultinomialNB Accuracy:\",metrics.accuracy_score(y_test, predicted))"
   ]
  },
  {
   "cell_type": "markdown",
   "id": "0aaf5a3b-40f2-4192-88f4-6f137cd14f1b",
   "metadata": {},
   "source": [
    "The classification rate of 53.33% using CountVector(or BoW) is not considered as good accuracy."
   ]
  },
  {
   "cell_type": "code",
   "execution_count": 152,
   "id": "4480ece6-011e-4980-9b85-bbd9ab8fd80e",
   "metadata": {},
   "outputs": [],
   "source": [
    "tf=TfidfVectorizer()\n",
    "text_tf= tf.fit_transform(df_sample['Text'])\n",
    "X_train, X_test, y_train, y_test = train_test_split(text_tf, df_sample['Sentiment_value'], test_size=0.3, random_state=123)"
   ]
  },
  {
   "cell_type": "code",
   "execution_count": 154,
   "id": "1ba40ad5-5384-47b9-83a4-3c8aee039cd5",
   "metadata": {},
   "outputs": [
    {
     "name": "stdout",
     "output_type": "stream",
     "text": [
      "MultinomialNB Accuracy: 0.7333333333333333\n"
     ]
    }
   ],
   "source": [
    "clf = MultinomialNB().fit(X_train, y_train)\n",
    "predicted= clf.predict(X_test)\n",
    "print(\"MultinomialNB Accuracy:\",metrics.accuracy_score(y_test, predicted))"
   ]
  },
  {
   "cell_type": "markdown",
   "id": "77946c09-5500-4898-aaa0-045dd1cf2660",
   "metadata": {},
   "source": [
    "The classification rate of 73.33% using TF-IDF(Term Frequency-Inverse Document Frequency) performed better in accuracy."
   ]
  },
  {
   "cell_type": "markdown",
   "id": "d0c88ae9-5f2c-4d75-b4e7-5a540f5bdad3",
   "metadata": {},
   "source": [
    "#### Notes\n",
    "* Pipelines\n",
    "    - https://towardsdatascience.com/a-simple-example-of-pipeline-in-machine-learning-with-scikit-learn-e726ffbb6976\n",
    "    - https://www.analyticsvidhya.com/blog/2020/01/build-your-first-machine-learning-pipeline-using-scikit-learn/\n",
    "* Parameters tuning\n",
    "    - https://machinelearningmastery.com/how-to-tune-algorithm-parameters-with-scikit-learn/\n",
    "* Text analytics\n",
    "    - https://www.datacamp.com/community/tutorials/text-analytics-beginners-nltk\n",
    "    - https://www.nltk.org\n",
    "    - https://towardsdatascience.com/basic-binary-sentiment-analysis-using-nltk-c94ba17ae386"
   ]
  }
 ],
 "metadata": {
  "kernelspec": {
   "display_name": "Python 3",
   "language": "python",
   "name": "python3"
  },
  "language_info": {
   "codemirror_mode": {
    "name": "ipython",
    "version": 3
   },
   "file_extension": ".py",
   "mimetype": "text/x-python",
   "name": "python",
   "nbconvert_exporter": "python",
   "pygments_lexer": "ipython3",
   "version": "3.8.8"
  }
 },
 "nbformat": 4,
 "nbformat_minor": 5
}
